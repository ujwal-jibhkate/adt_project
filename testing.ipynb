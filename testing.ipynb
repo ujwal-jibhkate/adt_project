{
 "cells": [
  {
   "cell_type": "code",
   "execution_count": 7,
   "id": "5a84650f",
   "metadata": {},
   "outputs": [
    {
     "name": "stdout",
     "output_type": "stream",
     "text": [
      "Using database at: database/911_Call_Data.db\n",
      "Columns: ['call_key', 'record_id', 'call_date_time', 'priority', 'description', 'call_number', 'incident_location_id', 'reporter_location_id', 'jurisdiction_id']\n",
      "row_to_dict([1,2,3]) = {'call_key': 1, 'record_id': 2, 'call_date_time': 3}\n"
     ]
    }
   ],
   "source": [
    "# Imports, DB path, & Helper to convert rows → dicts\n",
    "\n",
    "import sqlite3\n",
    "import uuid\n",
    "from backend import (\n",
    "    create_incident,\n",
    "    read_incidents,\n",
    "    search_incident,\n",
    "    update_incident,\n",
    "    delete_incident\n",
    ")\n",
    "\n",
    "DB_PATH = \"database/911_Call_Data.db\"\n",
    "print(f\"Using database at: {DB_PATH}\")\n",
    "\n",
    "# Fetch column names from the Calls table\n",
    "conn = sqlite3.connect(DB_PATH)\n",
    "cursor = conn.cursor()\n",
    "cursor.execute(\"PRAGMA table_info(Calls)\")\n",
    "cols = [colinfo[1] for colinfo in cursor.fetchall()]  # e.g. [\"call_key\",\"record_id\",...]\n",
    "conn.close()\n",
    "\n",
    "def row_to_dict(row):\n",
    "    \"\"\"\n",
    "    Given either a sqlite3.Row or a tuple, return a dict\n",
    "    mapping column names → values.\n",
    "    \"\"\"\n",
    "    return dict(zip(cols, row))\n",
    "\n",
    "print(\"Columns:\", cols)\n",
    "print(\"row_to_dict([1,2,3]) =\", row_to_dict([1, 2, 3]))"
   ]
  },
  {
   "cell_type": "code",
   "execution_count": 8,
   "id": "d7b1e3a7",
   "metadata": {},
   "outputs": [
    {
     "name": "stdout",
     "output_type": "stream",
     "text": [
      "create_incident returned call_key: d56624a4-4604-4fa9-bf9e-fe8ee9b95f90\n"
     ]
    }
   ],
   "source": [
    "# Test create_incident\n",
    "\n",
    "test_record_id    = str(uuid.uuid4())\n",
    "test_time         = \"2025/05/03 00:00:00+00\"  # UTC format\n",
    "test_priority     = \"High\"\n",
    "test_description  = f\"TEST INCIDENT at {uuid.uuid4()}\"\n",
    "test_call_number  = \"TEST123\"\n",
    "incident_loc_id   = 1\n",
    "reporter_loc_id   = 1\n",
    "jurisdiction_id   = 1\n",
    "\n",
    "new_call_key = create_incident(\n",
    "    record_id=test_record_id,\n",
    "    call_date_time=test_time,\n",
    "    priority=test_priority,\n",
    "    description=test_description,\n",
    "    call_number=test_call_number,\n",
    "    incident_location_id=incident_loc_id,\n",
    "    reporter_location_id=reporter_loc_id,\n",
    "    jurisdiction_id=jurisdiction_id\n",
    ")\n",
    "\n",
    "assert isinstance(new_call_key, str) and len(new_call_key) > 0\n",
    "print(\"create_incident returned call_key:\", new_call_key)\n"
   ]
  },
  {
   "cell_type": "code",
   "execution_count": 9,
   "id": "30a6334e",
   "metadata": {},
   "outputs": [
    {
     "name": "stdout",
     "output_type": "stream",
     "text": [
      "read_incidents found our new incident.\n"
     ]
    }
   ],
   "source": [
    "# Test read_incidents\n",
    "\n",
    "latest_rows = read_incidents()      # returns up to 10 rows\n",
    "latest = [row_to_dict(r) for r in latest_rows]\n",
    "\n",
    "assert any(d[\"call_key\"] == new_call_key for d in latest), (\n",
    "    \"❌ Our test incident was not found in read_incidents()\"\n",
    ")\n",
    "print(\"read_incidents found our new incident.\")\n"
   ]
  },
  {
   "cell_type": "code",
   "execution_count": 10,
   "id": "abc0fd8b",
   "metadata": {},
   "outputs": [
    {
     "name": "stdout",
     "output_type": "stream",
     "text": [
      "search_incident returned the correct record.\n"
     ]
    }
   ],
   "source": [
    "# Test search_incident\n",
    "\n",
    "search_rows = search_incident(new_call_key)\n",
    "assert isinstance(search_rows, list), \"search_incident must return a list\"\n",
    "assert len(search_rows) == 1, f\"Expected 1 result, got {len(search_rows)}\"\n",
    "\n",
    "record = row_to_dict(search_rows[0])\n",
    "assert record[\"description\"] == test_description, (\n",
    "    f\"Expected description {test_description}, got {record['description']}\"\n",
    ")\n",
    "assert record[\"priority\"] == test_priority, (\n",
    "    f\"Expected priority {test_priority}, got {record['priority']}\"\n",
    ")\n",
    "assert record[\"call_number\"] == test_call_number, (\n",
    "    f\"Expected call_number {test_call_number}, got {record['call_number']}\"\n",
    ")\n",
    "\n",
    "print(\"search_incident returned the correct record.\")\n"
   ]
  },
  {
   "cell_type": "code",
   "execution_count": 11,
   "id": "5d4c4713",
   "metadata": {},
   "outputs": [
    {
     "name": "stdout",
     "output_type": "stream",
     "text": [
      "update_incident successfully modified the record.\n"
     ]
    }
   ],
   "source": [
    "# Test update_incident\n",
    "\n",
    "new_priority    = \"Medium\"\n",
    "new_description = test_description + \" [UPDATED]\"\n",
    "\n",
    "# update_incident only needs call_key + any fields to change\n",
    "update_incident(\n",
    "    call_key=new_call_key,\n",
    "    priority=new_priority,\n",
    "    description=new_description\n",
    ")\n",
    "\n",
    "# fetch again\n",
    "updated_rows = search_incident(new_call_key)\n",
    "assert len(updated_rows) == 1, \"After update, expected exactly 1 result\"\n",
    "updated = row_to_dict(updated_rows[0])\n",
    "\n",
    "assert updated[\"priority\"] == new_priority, (\n",
    "    f\"Priority did not update: got {updated['priority']}\"\n",
    ")\n",
    "assert updated[\"description\"] == new_description, (\n",
    "    f\"Description did not update: got {updated['description']}\"\n",
    ")\n",
    "\n",
    "print(\"update_incident successfully modified the record.\")\n"
   ]
  },
  {
   "cell_type": "code",
   "execution_count": 12,
   "id": "363ea9ce",
   "metadata": {},
   "outputs": [
    {
     "name": "stdout",
     "output_type": "stream",
     "text": [
      "delete_incident removed our test record.\n"
     ]
    }
   ],
   "source": [
    "# Test delete_incident\n",
    "\n",
    "delete_incident(new_call_key)\n",
    "\n",
    "post_delete = search_incident(new_call_key)\n",
    "assert isinstance(post_delete, list), \"search_incident should still return a list\"\n",
    "assert len(post_delete) == 0, \"Record was not deleted\"\n",
    "\n",
    "print(\"delete_incident removed our test record.\")\n"
   ]
  },
  {
   "cell_type": "code",
   "execution_count": 13,
   "id": "f5cedab8",
   "metadata": {},
   "outputs": [
    {
     "name": "stdout",
     "output_type": "stream",
     "text": [
      "Final read_incidents sanity check passed.\n"
     ]
    }
   ],
   "source": [
    "# Final read sanity\n",
    "\n",
    "_ = read_incidents()\n",
    "print(\"Final read_incidents sanity check passed.\")\n"
   ]
  }
 ],
 "metadata": {
  "kernelspec": {
   "display_name": "base",
   "language": "python",
   "name": "python3"
  },
  "language_info": {
   "codemirror_mode": {
    "name": "ipython",
    "version": 3
   },
   "file_extension": ".py",
   "mimetype": "text/x-python",
   "name": "python",
   "nbconvert_exporter": "python",
   "pygments_lexer": "ipython3",
   "version": "3.8.8"
  }
 },
 "nbformat": 4,
 "nbformat_minor": 5
}
